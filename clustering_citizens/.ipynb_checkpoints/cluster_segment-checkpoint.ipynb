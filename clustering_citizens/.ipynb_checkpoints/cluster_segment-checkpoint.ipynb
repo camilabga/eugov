{
 "cells": [
  {
   "cell_type": "markdown",
   "metadata": {},
   "source": [
    "# Cluster Segmentation"
   ]
  },
  {
   "cell_type": "code",
   "execution_count": 34,
   "metadata": {},
   "outputs": [],
   "source": [
    "# PACKAGES NEEDED\n",
    "\n",
    "import numpy as np\n",
    "import pandas as pd\n",
    "from IPython.display import display\n",
    "# Allows the use of displa*y() for DataFrames\n",
    "\n",
    "import datetime as DT\n",
    "import io\n",
    "\n",
    "import matplotlib.pyplot as plt\n",
    "import seaborn as sns; sns.set()\n",
    "\n",
    "# Import supplementary visualizations code visuals.py\n",
    "import visuals as vs\n",
    "import helper\n",
    "import seaborn as sns\n",
    "\n",
    "# Pretty display for notebooks\n",
    "%matplotlib inline"
   ]
  },
  {
   "cell_type": "code",
   "execution_count": 8,
   "metadata": {},
   "outputs": [
    {
     "name": "stdout",
     "output_type": "stream",
     "text": [
      "Dataset orgaos could not be loaded. Is the dataset missing?\n",
      "Dataset pessoas has 104632 samples with 14 features each.\n"
     ]
    },
    {
     "name": "stderr",
     "output_type": "stream",
     "text": [
      "/home/barbosa/Libraries/anaconda3/lib/python3.7/site-packages/IPython/core/interactiveshell.py:3020: DtypeWarning: Columns (2,3,6,8,9,10,11) have mixed types. Specify dtype option on import or set low_memory=False.\n",
      "  interactivity=interactivity, compiler=compiler, result=result)\n"
     ]
    }
   ],
   "source": [
    "### import data\n",
    "\n",
    "try:\n",
    "    orgaos = pd.read_csv(\"data/tb_servicos_modified.csv\")\n",
    "    orgaos.drop(['id_servico'], axis = 1, inplace = True)\n",
    "    orgaos.drop_duplicates('nome_orgao')\n",
    "    print(\"Orgaos dataset has {} samples with {} features each.\".format(*data.shape))\n",
    "except:\n",
    "    print(\"Dataset orgaos could not be loaded. Is the dataset missing?\")\n",
    "    \n",
    "try:\n",
    "    data = pd.read_csv(\"data/pessoas.csv\")\n",
    "    #data.drop(['id_servico'], axis = 1, inplace = True)\n",
    "    #data.drop_duplicates('nome_orgao')\n",
    "    print(\"Dataset pessoas has {} samples with {} features each.\".format(*data.shape))\n",
    "except:\n",
    "    print(\"Pessoas dataset could not be loaded. Is the dataset missing?\")"
   ]
  },
  {
   "cell_type": "code",
   "execution_count": 9,
   "metadata": {},
   "outputs": [
    {
     "data": {
      "text/html": [
       "<div>\n",
       "<style scoped>\n",
       "    .dataframe tbody tr th:only-of-type {\n",
       "        vertical-align: middle;\n",
       "    }\n",
       "\n",
       "    .dataframe tbody tr th {\n",
       "        vertical-align: top;\n",
       "    }\n",
       "\n",
       "    .dataframe thead th {\n",
       "        text-align: right;\n",
       "    }\n",
       "</style>\n",
       "<table border=\"1\" class=\"dataframe\">\n",
       "  <thead>\n",
       "    <tr style=\"text-align: right;\">\n",
       "      <th></th>\n",
       "      <th>id_orgao</th>\n",
       "      <th>nome_orgao</th>\n",
       "    </tr>\n",
       "  </thead>\n",
       "  <tbody>\n",
       "    <tr>\n",
       "      <th>0</th>\n",
       "      <td>37534</td>\n",
       "      <td>Ministério da Saúde (MS)</td>\n",
       "    </tr>\n",
       "    <tr>\n",
       "      <th>1</th>\n",
       "      <td>36802</td>\n",
       "      <td>Instituto Nacional do Seguro Social (INSS)</td>\n",
       "    </tr>\n",
       "    <tr>\n",
       "      <th>2</th>\n",
       "      <td>58051</td>\n",
       "      <td>Agência Nacional de Mineração (ANM)</td>\n",
       "    </tr>\n",
       "    <tr>\n",
       "      <th>3</th>\n",
       "      <td>822</td>\n",
       "      <td>Advocacia-Geral da União (AGU)</td>\n",
       "    </tr>\n",
       "    <tr>\n",
       "      <th>4</th>\n",
       "      <td>37547</td>\n",
       "      <td>Ministério do Turismo (MTur)</td>\n",
       "    </tr>\n",
       "  </tbody>\n",
       "</table>\n",
       "</div>"
      ],
      "text/plain": [
       "   id_orgao                                  nome_orgao\n",
       "0     37534                    Ministério da Saúde (MS)\n",
       "1     36802  Instituto Nacional do Seguro Social (INSS)\n",
       "2     58051         Agência Nacional de Mineração (ANM)\n",
       "3       822              Advocacia-Geral da União (AGU)\n",
       "4     37547                Ministério do Turismo (MTur)"
      ]
     },
     "execution_count": 9,
     "metadata": {},
     "output_type": "execute_result"
    }
   ],
   "source": [
    "orgaos.head()"
   ]
  },
  {
   "cell_type": "code",
   "execution_count": 10,
   "metadata": {},
   "outputs": [
    {
     "name": "stderr",
     "output_type": "stream",
     "text": [
      "/home/barbosa/Libraries/anaconda3/lib/python3.7/site-packages/pandas/core/frame.py:3697: SettingWithCopyWarning: \n",
      "A value is trying to be set on a copy of a slice from a DataFrame\n",
      "\n",
      "See the caveats in the documentation: http://pandas.pydata.org/pandas-docs/stable/indexing.html#indexing-view-versus-copy\n",
      "  errors=errors)\n"
     ]
    }
   ],
   "source": [
    "data.set_index('cpf')\n",
    "data.sort_index()\n",
    "data = data.loc[0:9998, :]\n",
    "\n",
    "features_raw = data.dropna()\n",
    "\n",
    "features_raw.drop(['nome', 'cpf', 'ano_ingresso'], axis = 1, inplace = True)"
   ]
  },
  {
   "cell_type": "code",
   "execution_count": 11,
   "metadata": {},
   "outputs": [
    {
     "name": "stderr",
     "output_type": "stream",
     "text": [
      "/home/barbosa/Libraries/anaconda3/lib/python3.7/site-packages/sklearn/preprocessing/data.py:323: DataConversionWarning: Data with input dtype float64, object were all converted to float64 by MinMaxScaler.\n",
      "  return self.partial_fit(X, y)\n"
     ]
    },
    {
     "data": {
      "text/html": [
       "<div>\n",
       "<style scoped>\n",
       "    .dataframe tbody tr th:only-of-type {\n",
       "        vertical-align: middle;\n",
       "    }\n",
       "\n",
       "    .dataframe tbody tr th {\n",
       "        vertical-align: top;\n",
       "    }\n",
       "\n",
       "    .dataframe thead th {\n",
       "        text-align: right;\n",
       "    }\n",
       "</style>\n",
       "<table border=\"1\" class=\"dataframe\">\n",
       "  <thead>\n",
       "    <tr style=\"text-align: right;\">\n",
       "      <th></th>\n",
       "      <th>uf</th>\n",
       "      <th>n_filhos</th>\n",
       "      <th>conta</th>\n",
       "      <th>sexo</th>\n",
       "      <th>cor</th>\n",
       "      <th>emprego</th>\n",
       "      <th>cnh</th>\n",
       "      <th>sus</th>\n",
       "      <th>empresa</th>\n",
       "      <th>renda</th>\n",
       "      <th>idade</th>\n",
       "    </tr>\n",
       "  </thead>\n",
       "  <tbody>\n",
       "    <tr>\n",
       "      <th>0</th>\n",
       "      <td>Maranhão</td>\n",
       "      <td>0.0</td>\n",
       "      <td>Ativo</td>\n",
       "      <td>M</td>\n",
       "      <td>BRANCA</td>\n",
       "      <td>S</td>\n",
       "      <td>S</td>\n",
       "      <td>N</td>\n",
       "      <td>S</td>\n",
       "      <td>0.000000</td>\n",
       "      <td>0.000000</td>\n",
       "    </tr>\n",
       "    <tr>\n",
       "      <th>1</th>\n",
       "      <td>Minas Gerais</td>\n",
       "      <td>0.0</td>\n",
       "      <td>Ativo</td>\n",
       "      <td>M</td>\n",
       "      <td>PARDA</td>\n",
       "      <td>N</td>\n",
       "      <td>N</td>\n",
       "      <td>N</td>\n",
       "      <td>N</td>\n",
       "      <td>0.003341</td>\n",
       "      <td>0.011765</td>\n",
       "    </tr>\n",
       "    <tr>\n",
       "      <th>2</th>\n",
       "      <td>Rio Grande do Sul</td>\n",
       "      <td>0.0</td>\n",
       "      <td>Ativo</td>\n",
       "      <td>F</td>\n",
       "      <td>BRANCA</td>\n",
       "      <td>S</td>\n",
       "      <td>S</td>\n",
       "      <td>N</td>\n",
       "      <td>N</td>\n",
       "      <td>0.000000</td>\n",
       "      <td>0.047059</td>\n",
       "    </tr>\n",
       "    <tr>\n",
       "      <th>3</th>\n",
       "      <td>São Paulo</td>\n",
       "      <td>0.0</td>\n",
       "      <td>Ativo</td>\n",
       "      <td>M</td>\n",
       "      <td>PARDA</td>\n",
       "      <td>N</td>\n",
       "      <td>N</td>\n",
       "      <td>N</td>\n",
       "      <td>N</td>\n",
       "      <td>0.010024</td>\n",
       "      <td>0.200000</td>\n",
       "    </tr>\n",
       "    <tr>\n",
       "      <th>4</th>\n",
       "      <td>Rio Grande do Sul</td>\n",
       "      <td>0.0</td>\n",
       "      <td>Ativo</td>\n",
       "      <td>M</td>\n",
       "      <td>BRANCA</td>\n",
       "      <td>S</td>\n",
       "      <td>S</td>\n",
       "      <td>N</td>\n",
       "      <td>N</td>\n",
       "      <td>0.013365</td>\n",
       "      <td>0.070588</td>\n",
       "    </tr>\n",
       "  </tbody>\n",
       "</table>\n",
       "</div>"
      ],
      "text/plain": [
       "                  uf  n_filhos  conta sexo     cor emprego cnh sus empresa  \\\n",
       "0           Maranhão       0.0  Ativo    M  BRANCA       S   S   N       S   \n",
       "1       Minas Gerais       0.0  Ativo    M   PARDA       N   N   N       N   \n",
       "2  Rio Grande do Sul       0.0  Ativo    F  BRANCA       S   S   N       N   \n",
       "3          São Paulo       0.0  Ativo    M   PARDA       N   N   N       N   \n",
       "4  Rio Grande do Sul       0.0  Ativo    M  BRANCA       S   S   N       N   \n",
       "\n",
       "      renda     idade  \n",
       "0  0.000000  0.000000  \n",
       "1  0.003341  0.011765  \n",
       "2  0.000000  0.047059  \n",
       "3  0.010024  0.200000  \n",
       "4  0.013365  0.070588  "
      ]
     },
     "metadata": {},
     "output_type": "display_data"
    }
   ],
   "source": [
    "# Import sklearn.preprocessing.StandardScaler\n",
    "from sklearn.preprocessing import MinMaxScaler\n",
    "\n",
    "# Initialize a scaler, then apply it to the features\n",
    "scaler = MinMaxScaler() # default=(0, 1)\n",
    "numerical = ['renda', 'idade', 'n_filhos']\n",
    "\n",
    "features_log_minmax_transform = pd.DataFrame(data = features_raw)\n",
    "features_log_minmax_transform[numerical] = scaler.fit_transform(features_raw[numerical])\n",
    "\n",
    "# Show an example of a record with scaling applied\n",
    "display(features_log_minmax_transform.head(n = 5))"
   ]
  },
  {
   "cell_type": "code",
   "execution_count": 12,
   "metadata": {},
   "outputs": [
    {
     "name": "stdout",
     "output_type": "stream",
     "text": [
      "63 total features after one-hot encoding.\n",
      "['n_filhos', 'renda', 'idade', 'uf_Acre', 'uf_Alagoas', 'uf_Amapá', 'uf_Amazonas', 'uf_Bahia', 'uf_Bandundu', 'uf_Bissau Autonomous Region', 'uf_Canindeyú', 'uf_Ceará', 'uf_Distrito Federal', 'uf_Espírito Santo', 'uf_Goiás', 'uf_Indiana', 'uf_Lisbon', 'uf_Maldonado', 'uf_Maranhão', 'uf_Mato Grosso', 'uf_Mato Grosso do Sul', 'uf_Minas Gerais', 'uf_Paraná', 'uf_Paraíba', 'uf_Pará', 'uf_Pernambuco', 'uf_Piauí', 'uf_Porto Novo', 'uf_Ribeira Brava', 'uf_Rio Grande do Norte', 'uf_Rio Grande do Sul', 'uf_Rio de Janeiro', 'uf_Rondônia', 'uf_Santa Catarina', 'uf_Sergipe', 'uf_São Filipe', 'uf_São Paulo', 'uf_Tacuarembó', 'uf_Texas', 'uf_Tocantins', 'uf_Västra Götaland', 'uf_Île-de-France', 'conta_Ativo', 'conta_Bloqueado', 'conta_Inativo', 'conta_Inibido', 'conta_Suspenso', 'sexo_F', 'sexo_M', 'cor_AMARELA', 'cor_BRANCA', 'cor_INDÍGENA', 'cor_NÃO QUERO DECLARAR', 'cor_PARDA', 'cor_PRETA', 'emprego_N', 'emprego_S', 'cnh_N', 'cnh_S', 'sus_N', 'sus_S', 'empresa_N', 'empresa_S']\n"
     ]
    }
   ],
   "source": [
    "features_final = pd.get_dummies(features_log_minmax_transform)\n",
    "\n",
    "# Print the number of features after one-hot encoding\n",
    "encoded = list(features_final.columns)\n",
    "print(\"{} total features after one-hot encoding.\".format(len(encoded)))\n",
    "\n",
    "# Uncomment the following line to see the encoded feature names\n",
    "print (encoded)"
   ]
  },
  {
   "cell_type": "code",
   "execution_count": 51,
   "metadata": {},
   "outputs": [
    {
     "data": {
      "text/plain": [
       "array([3, 2, 4, ..., 1, 4, 1], dtype=int32)"
      ]
     },
     "execution_count": 51,
     "metadata": {},
     "output_type": "execute_result"
    }
   ],
   "source": [
    "from sklearn.cluster import KMeans\n",
    "\n",
    "#Create an instance of KMeans to find two clusters\n",
    "kmeans_1 = KMeans(n_clusters=5, random_state=0).fit(features_final)\n",
    "\n",
    "# use fit_predict to cluster the dataset\n",
    "predictions = kmeans_1.fit_predict(features_final)\n",
    "\n",
    "# Plot\n",
    "predictions"
   ]
  },
  {
   "cell_type": "code",
   "execution_count": 52,
   "metadata": {},
   "outputs": [
    {
     "data": {
      "text/html": [
       "<div>\n",
       "<style scoped>\n",
       "    .dataframe tbody tr th:only-of-type {\n",
       "        vertical-align: middle;\n",
       "    }\n",
       "\n",
       "    .dataframe tbody tr th {\n",
       "        vertical-align: top;\n",
       "    }\n",
       "\n",
       "    .dataframe thead th {\n",
       "        text-align: right;\n",
       "    }\n",
       "</style>\n",
       "<table border=\"1\" class=\"dataframe\">\n",
       "  <thead>\n",
       "    <tr style=\"text-align: right;\">\n",
       "      <th></th>\n",
       "      <th>n_filhos</th>\n",
       "      <th>renda</th>\n",
       "      <th>idade</th>\n",
       "      <th>uf_Acre</th>\n",
       "      <th>uf_Alagoas</th>\n",
       "      <th>uf_Amapá</th>\n",
       "      <th>uf_Amazonas</th>\n",
       "      <th>uf_Bahia</th>\n",
       "      <th>uf_Bandundu</th>\n",
       "      <th>uf_Bissau Autonomous Region</th>\n",
       "      <th>...</th>\n",
       "      <th>cor_PARDA</th>\n",
       "      <th>cor_PRETA</th>\n",
       "      <th>emprego_N</th>\n",
       "      <th>emprego_S</th>\n",
       "      <th>cnh_N</th>\n",
       "      <th>cnh_S</th>\n",
       "      <th>sus_N</th>\n",
       "      <th>sus_S</th>\n",
       "      <th>empresa_N</th>\n",
       "      <th>empresa_S</th>\n",
       "    </tr>\n",
       "  </thead>\n",
       "  <tbody>\n",
       "    <tr>\n",
       "      <th>0</th>\n",
       "      <td>0.0</td>\n",
       "      <td>0.000000</td>\n",
       "      <td>0.000000</td>\n",
       "      <td>0</td>\n",
       "      <td>0</td>\n",
       "      <td>0</td>\n",
       "      <td>0</td>\n",
       "      <td>0</td>\n",
       "      <td>0</td>\n",
       "      <td>0</td>\n",
       "      <td>...</td>\n",
       "      <td>0</td>\n",
       "      <td>0</td>\n",
       "      <td>0</td>\n",
       "      <td>1</td>\n",
       "      <td>0</td>\n",
       "      <td>1</td>\n",
       "      <td>1</td>\n",
       "      <td>0</td>\n",
       "      <td>0</td>\n",
       "      <td>1</td>\n",
       "    </tr>\n",
       "    <tr>\n",
       "      <th>1</th>\n",
       "      <td>0.0</td>\n",
       "      <td>0.003341</td>\n",
       "      <td>0.011765</td>\n",
       "      <td>0</td>\n",
       "      <td>0</td>\n",
       "      <td>0</td>\n",
       "      <td>0</td>\n",
       "      <td>0</td>\n",
       "      <td>0</td>\n",
       "      <td>0</td>\n",
       "      <td>...</td>\n",
       "      <td>1</td>\n",
       "      <td>0</td>\n",
       "      <td>1</td>\n",
       "      <td>0</td>\n",
       "      <td>1</td>\n",
       "      <td>0</td>\n",
       "      <td>1</td>\n",
       "      <td>0</td>\n",
       "      <td>1</td>\n",
       "      <td>0</td>\n",
       "    </tr>\n",
       "    <tr>\n",
       "      <th>2</th>\n",
       "      <td>0.0</td>\n",
       "      <td>0.000000</td>\n",
       "      <td>0.047059</td>\n",
       "      <td>0</td>\n",
       "      <td>0</td>\n",
       "      <td>0</td>\n",
       "      <td>0</td>\n",
       "      <td>0</td>\n",
       "      <td>0</td>\n",
       "      <td>0</td>\n",
       "      <td>...</td>\n",
       "      <td>0</td>\n",
       "      <td>0</td>\n",
       "      <td>0</td>\n",
       "      <td>1</td>\n",
       "      <td>0</td>\n",
       "      <td>1</td>\n",
       "      <td>1</td>\n",
       "      <td>0</td>\n",
       "      <td>1</td>\n",
       "      <td>0</td>\n",
       "    </tr>\n",
       "    <tr>\n",
       "      <th>3</th>\n",
       "      <td>0.0</td>\n",
       "      <td>0.010024</td>\n",
       "      <td>0.200000</td>\n",
       "      <td>0</td>\n",
       "      <td>0</td>\n",
       "      <td>0</td>\n",
       "      <td>0</td>\n",
       "      <td>0</td>\n",
       "      <td>0</td>\n",
       "      <td>0</td>\n",
       "      <td>...</td>\n",
       "      <td>1</td>\n",
       "      <td>0</td>\n",
       "      <td>1</td>\n",
       "      <td>0</td>\n",
       "      <td>1</td>\n",
       "      <td>0</td>\n",
       "      <td>1</td>\n",
       "      <td>0</td>\n",
       "      <td>1</td>\n",
       "      <td>0</td>\n",
       "    </tr>\n",
       "    <tr>\n",
       "      <th>4</th>\n",
       "      <td>0.0</td>\n",
       "      <td>0.013365</td>\n",
       "      <td>0.070588</td>\n",
       "      <td>0</td>\n",
       "      <td>0</td>\n",
       "      <td>0</td>\n",
       "      <td>0</td>\n",
       "      <td>0</td>\n",
       "      <td>0</td>\n",
       "      <td>0</td>\n",
       "      <td>...</td>\n",
       "      <td>0</td>\n",
       "      <td>0</td>\n",
       "      <td>0</td>\n",
       "      <td>1</td>\n",
       "      <td>0</td>\n",
       "      <td>1</td>\n",
       "      <td>1</td>\n",
       "      <td>0</td>\n",
       "      <td>1</td>\n",
       "      <td>0</td>\n",
       "    </tr>\n",
       "  </tbody>\n",
       "</table>\n",
       "<p>5 rows × 63 columns</p>\n",
       "</div>"
      ],
      "text/plain": [
       "   n_filhos     renda     idade  uf_Acre  uf_Alagoas  uf_Amapá  uf_Amazonas  \\\n",
       "0       0.0  0.000000  0.000000        0           0         0            0   \n",
       "1       0.0  0.003341  0.011765        0           0         0            0   \n",
       "2       0.0  0.000000  0.047059        0           0         0            0   \n",
       "3       0.0  0.010024  0.200000        0           0         0            0   \n",
       "4       0.0  0.013365  0.070588        0           0         0            0   \n",
       "\n",
       "   uf_Bahia  uf_Bandundu  uf_Bissau Autonomous Region    ...      cor_PARDA  \\\n",
       "0         0            0                            0    ...              0   \n",
       "1         0            0                            0    ...              1   \n",
       "2         0            0                            0    ...              0   \n",
       "3         0            0                            0    ...              1   \n",
       "4         0            0                            0    ...              0   \n",
       "\n",
       "   cor_PRETA  emprego_N  emprego_S  cnh_N  cnh_S  sus_N  sus_S  empresa_N  \\\n",
       "0          0          0          1      0      1      1      0          0   \n",
       "1          0          1          0      1      0      1      0          1   \n",
       "2          0          0          1      0      1      1      0          1   \n",
       "3          0          1          0      1      0      1      0          1   \n",
       "4          0          0          1      0      1      1      0          1   \n",
       "\n",
       "   empresa_S  \n",
       "0          1  \n",
       "1          0  \n",
       "2          0  \n",
       "3          0  \n",
       "4          0  \n",
       "\n",
       "[5 rows x 63 columns]"
      ]
     },
     "execution_count": 52,
     "metadata": {},
     "output_type": "execute_result"
    }
   ],
   "source": [
    "features_final.head()"
   ]
  },
  {
   "cell_type": "code",
   "execution_count": 53,
   "metadata": {},
   "outputs": [
    {
     "data": {
      "image/png": "[encoded data removed]",
      "text/plain": [
       "<Figure size 432x288 with 1 Axes>"
      ]
     },
     "metadata": {
      "needs_background": "light"
     },
     "output_type": "display_data"
    }
   ],
   "source": [
    "X = features_final\n",
    "plt.scatter(X['renda'], X['idade'], c='r', marker='o');"
   ]
  },
  {
   "cell_type": "code",
   "execution_count": 59,
   "metadata": {},
   "outputs": [
    {
     "data": {
      "text/plain": [
       "<matplotlib.collections.PathCollection at 0x7f6a37d498d0>"
      ]
     },
     "execution_count": 59,
     "metadata": {},
     "output_type": "execute_result"
    },
    {
     "data": {
      "image/png": "[encoded data removed]",
      "text/plain": [
       "<Figure size 432x288 with 1 Axes>"
      ]
     },
     "metadata": {
      "needs_background": "light"
     },
     "output_type": "display_data"
    }
   ],
   "source": [
    "plt.scatter(X['renda'], X['idade'], c=predictions, s=50, cmap='magma')"
   ]
  },
  {
   "cell_type": "code",
   "execution_count": 29,
   "metadata": {},
   "outputs": [
    {
     "data": {
      "text/html": [
       "<div>\n",
       "<style scoped>\n",
       "    .dataframe tbody tr th:only-of-type {\n",
       "        vertical-align: middle;\n",
       "    }\n",
       "\n",
       "    .dataframe tbody tr th {\n",
       "        vertical-align: top;\n",
       "    }\n",
       "\n",
       "    .dataframe thead th {\n",
       "        text-align: right;\n",
       "    }\n",
       "</style>\n",
       "<table border=\"1\" class=\"dataframe\">\n",
       "  <thead>\n",
       "    <tr style=\"text-align: right;\">\n",
       "      <th></th>\n",
       "      <th>id_orgao</th>\n",
       "      <th>nome_orgao</th>\n",
       "    </tr>\n",
       "  </thead>\n",
       "  <tbody>\n",
       "    <tr>\n",
       "      <th>0</th>\n",
       "      <td>37534</td>\n",
       "      <td>Ministério da Saúde (MS)</td>\n",
       "    </tr>\n",
       "    <tr>\n",
       "      <th>1</th>\n",
       "      <td>36802</td>\n",
       "      <td>Instituto Nacional do Seguro Social (INSS)</td>\n",
       "    </tr>\n",
       "    <tr>\n",
       "      <th>2</th>\n",
       "      <td>58051</td>\n",
       "      <td>Agência Nacional de Mineração (ANM)</td>\n",
       "    </tr>\n",
       "    <tr>\n",
       "      <th>3</th>\n",
       "      <td>822</td>\n",
       "      <td>Advocacia-Geral da União (AGU)</td>\n",
       "    </tr>\n",
       "    <tr>\n",
       "      <th>4</th>\n",
       "      <td>37547</td>\n",
       "      <td>Ministério do Turismo (MTur)</td>\n",
       "    </tr>\n",
       "  </tbody>\n",
       "</table>\n",
       "</div>"
      ],
      "text/plain": [
       "   id_orgao                                  nome_orgao\n",
       "0     37534                    Ministério da Saúde (MS)\n",
       "1     36802  Instituto Nacional do Seguro Social (INSS)\n",
       "2     58051         Agência Nacional de Mineração (ANM)\n",
       "3       822              Advocacia-Geral da União (AGU)\n",
       "4     37547                Ministério do Turismo (MTur)"
      ]
     },
     "execution_count": 29,
     "metadata": {},
     "output_type": "execute_result"
    }
   ],
   "source": [
    "orgaos.head()"
   ]
  },
  {
   "cell_type": "code",
   "execution_count": 55,
   "metadata": {},
   "outputs": [],
   "source": [
    "tipo_notificacao = ['campanha_vacinacao', 'eventos', 'alerta_urgencia', 'justificativa_eleitoral']"
   ]
  },
  {
   "cell_type": "code",
   "execution_count": null,
   "metadata": {},
   "outputs": [],
   "source": []
  }
 ],
 "metadata": {
  "kernelspec": {
   "display_name": "Python 3",
   "language": "python",
   "name": "python3"
  },
  "language_info": {
   "codemirror_mode": {
    "name": "ipython",
    "version": 3
   },
   "file_extension": ".py",
   "mimetype": "text/x-python",
   "name": "python",
   "nbconvert_exporter": "python",
   "pygments_lexer": "ipython3",
   "version": "3.7.1"
  }
 },
 "nbformat": 4,
 "nbformat_minor": 2
}
